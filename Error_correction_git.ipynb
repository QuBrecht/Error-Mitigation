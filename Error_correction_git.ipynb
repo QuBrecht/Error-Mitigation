{
 "cells": [
  {
   "cell_type": "code",
   "execution_count": 1,
   "id": "13683982-0822-4f5d-aca3-a1d1c7078342",
   "metadata": {},
   "outputs": [],
   "source": [
    "import qutip as q\n",
    "import numpy as np\n",
    "import scipy as sy\n",
    "import time\n",
    "import random as random\n",
    "from timeit import default_timer as timer\n",
    "from scipy.spatial.transform import Rotation as R\n",
    "import matplotlib.pyplot as plt\n",
    "import matplotlib.colors as colors\n",
    "from scipy.integrate import odeint, complex_ode, ode\n",
    "import latex"
   ]
  },
  {
   "cell_type": "code",
   "execution_count": 2,
   "id": "99cfc965-e59f-4bb1-9706-3a3cee9af68e",
   "metadata": {},
   "outputs": [],
   "source": [
    "##Functions to implement the influence martingale\n",
    "def mu_cont(tlist,args): # compute the continuous part of the martingale evolution\n",
    "    s=np.ones(len(tlist))\n",
    "    ss=0\n",
    "    for jj in range(1,len(tlist)):\n",
    "        # We  compute the time integral for every interval and sum them together\n",
    "        ss +=sy.integrate.quad(lambda t: (Minimal_Rate_times2(t,None)) *8,tlist[jj-1], tlist[jj])[0]\n",
    "        s[jj] = np.exp(ss)\n",
    "    return s\n",
    "\n",
    "def calc(t,sig,args): #compute contribution for an individual jump\n",
    "    if sig < 12:\n",
    "        s = 1 - (Minimal_Rate_times2(t,None)) / Rate_and_Ops[int(sig)][1]\n",
    "    else:\n",
    "        s = 1\n",
    "    return s\n",
    "\n",
    "def mu_jump(J_list,J_which,args): #Function to compute the jump contributions to the martingale\n",
    "    #Compute a vector with factors due to jumps\n",
    "    s = np.zeros(len(J_list))\n",
    "    for j in range(0,len(J_list)):\n",
    "        s[j] = calc(J_list[j], J_which[j], args)\n",
    "    \n",
    "    #The vector s may contain several jumps that happened during the same time interval [tlist[j-1],tlist[j]]. All jumps in this time interval should be accounted for at time tlist[j].\n",
    "    #The vector S will be the actual output, where this is taken into account.\n",
    "    index = np.zeros(len(J_list))\n",
    "    S = np.ones(len(tlist))\n",
    "    for jj in range(0,len(J_list)):\n",
    "        #Index contains the closest time in tlist to which the jump happened. however if t_jump>tlist[index[jj]] we need to shift the index to jj+1 \n",
    "        index[jj] = np.argmin(np.abs(tlist-J_list[jj]))\n",
    "        if tlist[index[jj].astype(int)] - J_list[jj] <0:\n",
    "            index[jj] += 1\n",
    "    #Combine all elememts s to the right places index in S\n",
    "    for j in range(0,len(index)):\n",
    "            S[index[j].astype(int):] *= s[j]\n",
    "    return S"
   ]
  },
  {
   "cell_type": "code",
   "execution_count": 3,
   "id": "4abae239-6a90-4f15-b398-21adc5ca4a1f",
   "metadata": {},
   "outputs": [],
   "source": [
    "ntraj = 10000# number of MC trajectories\\\n",
    "\n",
    "#define the initial and final times\n",
    "tf=50\n",
    "ti=0\n",
    "tlist = np.linspace(0,tf,200)\n",
    "\n",
    "#Physical parameters of the system\n",
    "Gamma = 0.001\n",
    "J=1\n",
    "h=1\n",
    "gam = 0.25\n",
    "beta = 1\n",
    "om = 1\n",
    "C = 2*Gamma\n",
    "\n",
    "#Initial state\n",
    "psi0 = 1/4 * q.tensor(q.basis(2,0)+q.basis(2,1),q.basis(2,0)+q.basis(2,1),q.basis(2,0)+q.basis(2,1),q.basis(2,0)+q.basis(2,1))"
   ]
  },
  {
   "cell_type": "code",
   "execution_count": 4,
   "id": "2e2503d3-067c-4b08-a86d-3e169442f668",
   "metadata": {},
   "outputs": [],
   "source": [
    "#Define the observables for all 4 sites\n",
    "sx1 = q.tensor(q.sigmax(),q.qeye(2),q.qeye(2),q.qeye(2))\n",
    "sy1 = q.tensor(q.sigmay(),q.qeye(2),q.qeye(2),q.qeye(2))\n",
    "sz1 = q.tensor(q.sigmaz(),q.qeye(2),q.qeye(2),q.qeye(2))\n",
    "sp1 = q.tensor(q.sigmap(),q.qeye(2),q.qeye(2),q.qeye(2))\n",
    "sm1 = q.tensor(q.sigmam(),q.qeye(2),q.qeye(2),q.qeye(2))\n",
    "\n",
    "sx2 = q.tensor(q.qeye(2),q.sigmax(),q.qeye(2),q.qeye(2))\n",
    "sy2 = q.tensor(q.qeye(2),q.sigmay(),q.qeye(2),q.qeye(2))\n",
    "sz2 = q.tensor(q.qeye(2),q.sigmaz(),q.qeye(2),q.qeye(2))\n",
    "sp2 = q.tensor(q.qeye(2),q.sigmap(),q.qeye(2),q.qeye(2))\n",
    "sm2 = q.tensor(q.qeye(2),q.sigmam(),q.qeye(2),q.qeye(2))\n",
    "\n",
    "sx3 = q.tensor(q.qeye(2),q.qeye(2),q.sigmax(),q.qeye(2))\n",
    "sy3 = q.tensor(q.qeye(2),q.qeye(2),q.sigmay(),q.qeye(2))\n",
    "sz3 = q.tensor(q.qeye(2),q.qeye(2),q.sigmaz(),q.qeye(2))\n",
    "sp3 = q.tensor(q.qeye(2),q.qeye(2),q.sigmap(),q.qeye(2))\n",
    "sm3 = q.tensor(q.qeye(2),q.qeye(2),q.sigmam(),q.qeye(2))\n",
    "\n",
    "sx4 = q.tensor(q.qeye(2),q.qeye(2),q.qeye(2),q.sigmax())\n",
    "sy4 = q.tensor(q.qeye(2),q.qeye(2),q.qeye(2),q.sigmay())\n",
    "sz4 = q.tensor(q.qeye(2),q.qeye(2),q.qeye(2),q.sigmaz())\n",
    "sp4 = q.tensor(q.qeye(2),q.qeye(2),q.qeye(2),q.sigmap())\n",
    "sm4 = q.tensor(q.qeye(2),q.qeye(2),q.qeye(2),q.sigmam())"
   ]
  },
  {
   "cell_type": "code",
   "execution_count": 5,
   "id": "0596f599-b767-499c-af49-4b941c6985aa",
   "metadata": {},
   "outputs": [],
   "source": [
    "H = J * ((1+gam)*(sx1*sx2 + sx2*sx3 + sx3*sx4 + sx4*sx1)+(1-gam)*(sy1*sy2 + sy2*sy3 + sy3*sy4 + sy4*sy1) \n",
    "        +(sz1*sz2 + sz2*sz3 + sz3*sz4 + sz4*sz1)) - gam*h*(sy1+sy2+sy3+sy4)"
   ]
  },
  {
   "cell_type": "code",
   "execution_count": 6,
   "id": "5889a4fd-5d67-4427-9eee-edfbaccebb71",
   "metadata": {},
   "outputs": [],
   "source": [
    "c_ops = []\n",
    "c_ops.append(sm1*np.sqrt(Gamma))\n",
    "c_ops.append(sm2*np.sqrt(Gamma))\n",
    "c_ops.append(sm3*np.sqrt(Gamma))\n",
    "c_ops.append(sm4*np.sqrt(Gamma))\n",
    "\n",
    "c_ops.append(sz1*np.sqrt(Gamma))\n",
    "c_ops.append(sz2*np.sqrt(Gamma))\n",
    "c_ops.append(sz3*np.sqrt(Gamma))\n",
    "c_ops.append(sz4*np.sqrt(Gamma))"
   ]
  },
  {
   "cell_type": "code",
   "execution_count": 7,
   "id": "e475e814-383b-4dcd-8dd6-45666b9e45a5",
   "metadata": {},
   "outputs": [],
   "source": [
    "d_ops = []\n",
    "d_ops.append(sm1*np.sqrt(Gamma))\n",
    "d_ops.append(sm2*np.sqrt(Gamma))\n",
    "d_ops.append(sm3*np.sqrt(Gamma))\n",
    "d_ops.append(sm4*np.sqrt(Gamma))\n",
    "\n",
    "d_ops.append(sz1*np.sqrt(Gamma))\n",
    "d_ops.append(sz2*np.sqrt(Gamma))\n",
    "d_ops.append(sz3*np.sqrt(Gamma))\n",
    "d_ops.append(sz4*np.sqrt(Gamma))\n",
    "\n",
    "d_ops.append(sp1*np.sqrt(2*Gamma))\n",
    "d_ops.append(sp2*np.sqrt(2*Gamma))\n",
    "d_ops.append(sp3*np.sqrt(2*Gamma))\n",
    "d_ops.append(sp4*np.sqrt(2*Gamma))\n",
    "\n",
    "d_ops.append(sm1*np.sqrt(Gamma))\n",
    "d_ops.append(sm2*np.sqrt(Gamma))\n",
    "d_ops.append(sm3*np.sqrt(Gamma))\n",
    "d_ops.append(sm4*np.sqrt(Gamma))\n",
    "\n",
    "d_ops.append(sz1*np.sqrt(Gamma))\n",
    "d_ops.append(sz2*np.sqrt(Gamma))\n",
    "d_ops.append(sz3*np.sqrt(Gamma))\n",
    "d_ops.append(sz4*np.sqrt(Gamma))"
   ]
  },
  {
   "cell_type": "code",
   "execution_count": 8,
   "id": "b6a24ca8-25b0-47ec-89bf-8aae6cbb778a",
   "metadata": {},
   "outputs": [],
   "source": [
    "#Define a function and array for the influence martingale functions\n",
    "def Minimal_Rate_times2(t,args):\n",
    "    return C\n",
    "\n",
    "Rate_and_Ops = []\n",
    "\n",
    "Rate_and_Ops.append([sm1,Gamma])\n",
    "Rate_and_Ops.append([sm2,Gamma])\n",
    "Rate_and_Ops.append([sm3,Gamma])\n",
    "Rate_and_Ops.append([sm4,Gamma])\n",
    "\n",
    "Rate_and_Ops.append([sz1,Gamma])\n",
    "Rate_and_Ops.append([sz2,Gamma])\n",
    "Rate_and_Ops.append([sz3,Gamma])\n",
    "Rate_and_Ops.append([sz4,Gamma])\n",
    "\n",
    "Rate_and_Ops.append([sp1,2*Gamma])\n",
    "Rate_and_Ops.append([sp2,2*Gamma])\n",
    "Rate_and_Ops.append([sp3,2*Gamma])\n",
    "Rate_and_Ops.append([sp4,2*Gamma])"
   ]
  },
  {
   "cell_type": "code",
   "execution_count": 9,
   "id": "9377cdf8-3d17-4a00-ba6c-805d17a910b7",
   "metadata": {},
   "outputs": [],
   "source": [
    "e_ops = [sp1*sm1, sp2*sm2, sp3*sm3, sp4*sm4]"
   ]
  },
  {
   "cell_type": "code",
   "execution_count": 10,
   "id": "05f8ca32-220d-4a6d-8879-610fa2559e8e",
   "metadata": {},
   "outputs": [],
   "source": [
    "SESol=q.sesolve(H,psi0,tlist,e_ops)\n",
    "MESol=q.mesolve(H,psi0,tlist,c_ops,e_ops)\n",
    "SESol_st=q.sesolve(H,psi0,tlist)\n",
    "MESol_st=q.mesolve(H,psi0,tlist,c_ops)\n",
    "SESol2=q.sesolve(H,psi0,tlist,e_ops)\n",
    "MESol2=q.mesolve(H,psi0,tlist,d_ops,e_ops)\n",
    "SESol2_st=q.sesolve(H,psi0,tlist)\n",
    "MESol2_st=q.mesolve(H,psi0,tlist,d_ops)"
   ]
  },
  {
   "cell_type": "code",
   "execution_count": 11,
   "id": "00ff9d46-e236-4a2c-88ee-aaa6a97c48bd",
   "metadata": {},
   "outputs": [
    {
     "data": {
      "text/plain": [
       "[<matplotlib.lines.Line2D at 0x7f9f1082aca0>]"
      ]
     },
     "execution_count": 11,
     "metadata": {},
     "output_type": "execute_result"
    },
    {
     "data": {
      "image/png": "[encoded data removed]",
      "text/plain": [
       "<Figure size 432x288 with 1 Axes>"
      ]
     },
     "metadata": {
      "needs_background": "light"
     },
     "output_type": "display_data"
    }
   ],
   "source": [
    "plt.plot(tlist,SESol.expect[0])\n",
    "plt.plot(tlist,SESol.expect[1])\n",
    "plt.plot(tlist,SESol.expect[2])\n",
    "plt.plot(tlist,SESol.expect[3])\n",
    "\n",
    "plt.plot(tlist,MESol.expect[0])\n",
    "plt.plot(tlist,MESol.expect[1])\n",
    "plt.plot(tlist,MESol.expect[2])\n",
    "plt.plot(tlist,MESol.expect[3])"
   ]
  },
  {
   "cell_type": "code",
   "execution_count": 12,
   "id": "ec89857c-5f86-4663-a54c-455c1b0bc65b",
   "metadata": {},
   "outputs": [
    {
     "data": {
      "text/plain": [
       "0.8812653466002242"
      ]
     },
     "execution_count": 12,
     "metadata": {},
     "output_type": "execute_result"
    }
   ],
   "source": [
    "#Fidelity at the tf=50\n",
    "q.fidelity(SESol_st.states[-1]*SESol_st.states[-1].dag(),MESol_st.states[-1])"
   ]
  },
  {
   "cell_type": "code",
   "execution_count": null,
   "id": "c1ac634d-e899-4a88-9d42-dab7c36dc45e",
   "metadata": {},
   "outputs": [],
   "source": [
    "#Get statistics for 10^6 trajectories\n",
    "State6 = []\n",
    "Tr6 = []\n",
    "\n",
    "Mu = mu_cont(tlist,None)\n",
    "\n",
    "for mm in range(0,len(tlist)):\n",
    "    State6.append(0)\n",
    "    Tr6.append(0)\n",
    "    \n",
    "opts = q.Options(average_expect = False)\n",
    "for jj in range(0,100):\n",
    "    MCSol00_st = q.mcsolve(H, psi0, tlist, d_ops, ntraj=10000, options = opts,progress_bar=None)  \n",
    "    for j in range(0,10000):\n",
    "        times = MCSol00_st.col_times[j]\n",
    "        jumps = np.zeros(len(MCSol00_st.col_times[j]))\n",
    "        jumps[:] = MCSol00_st.col_which[j]\n",
    "        lala = mu_jump(times,jumps,None) * Mu \n",
    "        for kk in range(0,len(tlist)):\n",
    "            Tr6[kk] += lala[kk] * (MCSol00_st.states[j][kk]*MCSol00_st.states[j][kk].dag()).tr()\n",
    "            State6[kk] += lala[kk] * MCSol00_st.states[j][kk]*MCSol00_st.states[j][kk].dag()\n",
    "        \n",
    "        \n",
    "        \n",
    "        "
   ]
  },
  {
   "cell_type": "code",
   "execution_count": null,
   "id": "52ab7ea9-af8b-445e-80d3-65d96f0d5018",
   "metadata": {},
   "outputs": [],
   "source": [
    "#Get statistics for 10^5 trajectories\n",
    "State5 = []\n",
    "Tr5 = []\n",
    "\n",
    "Mu = mu_cont(tlist,None)\n",
    "\n",
    "for mm in range(0,len(tlist)):\n",
    "    State5.append(0)\n",
    "    Tr5.append(0)\n",
    "    \n",
    "opts = q.Options(average_expect = False)\n",
    "for jj in range(0,10):\n",
    "    MCSol00_st = q.mcsolve(H, psi0, tlist, d_ops, ntraj=10000, options = opts,progress_bar=None)  \n",
    "    for j in range(0,10000):\n",
    "        times = MCSol00_st.col_times[j]\n",
    "        jumps = np.zeros(len(MCSol00_st.col_times[j]))\n",
    "        jumps[:] = MCSol00_st.col_which[j]\n",
    "        lala = mu_jump(times,jumps,None) * Mu \n",
    "        for kk in range(0,len(tlist)):\n",
    "            Tr5[kk] += lala[kk] * (MCSol00_st.states[j][kk]*MCSol00_st.states[j][kk].dag()).tr()\n",
    "            State5[kk] += lala[kk] * MCSol00_st.states[j][kk]*MCSol00_st.states[j][kk].dag()\n",
    "        "
   ]
  },
  {
   "cell_type": "code",
   "execution_count": null,
   "id": "4b6dada5-5416-4ce4-9ed6-8694be69d590",
   "metadata": {},
   "outputs": [],
   "source": [
    "#Get statistics for 10^4 trajectories\n",
    "State2 = []\n",
    "Tr2 = []\n",
    "\n",
    "for mm in range(0,len(tlist)):\n",
    "    State2.append(0)\n",
    "    Tr2.append(0)\n",
    "opts = q.Options(average_expect = False)\n",
    "\n",
    "for j in range(0,10000):\n",
    "    times = MCSol00_st.col_times[j]\n",
    "    jumps = np.zeros(len(MCSol00_st.col_times[j]))\n",
    "    jumps[:] = MCSol00_st.col_which[j]\n",
    "    lala = mu_jump(times,jumps,None) * Mu \n",
    "\n",
    "    for kk in range(0,len(tlist)):\n",
    "            Tr2[kk] += lala[kk] * (MCSol00_st.states[j][kk]*MCSol00_st.states[j][kk].dag()).tr()\n",
    "            State2[kk] += lala[kk] * MCSol00_st.states[j][kk]*MCSol00_st.states[j][kk].dag()\n",
    "            \n",
    "            "
   ]
  },
  {
   "cell_type": "code",
   "execution_count": 24,
   "id": "9bae0d1c-444b-47db-9893-f878ef87348b",
   "metadata": {},
   "outputs": [
    {
     "ename": "TypeError",
     "evalue": "unsupported operand type(s) for /: 'list' and 'list'",
     "output_type": "error",
     "traceback": [
      "\u001b[0;31m---------------------------------------------------------------------------\u001b[0m",
      "\u001b[0;31mTypeError\u001b[0m                                 Traceback (most recent call last)",
      "\u001b[0;32m/var/folders/f3/t4kxsxl54qlbt7wr4xdnv17w0000gn/T/ipykernel_96643/2225040208.py\u001b[0m in \u001b[0;36m<module>\u001b[0;34m\u001b[0m\n\u001b[1;32m      1\u001b[0m \u001b[0;31m#Fidelities with target state at the final time\u001b[0m\u001b[0;34m\u001b[0m\u001b[0;34m\u001b[0m\u001b[0m\n\u001b[0;32m----> 2\u001b[0;31m \u001b[0mq\u001b[0m\u001b[0;34m.\u001b[0m\u001b[0mfidelity\u001b[0m\u001b[0;34m(\u001b[0m\u001b[0mSESol_st\u001b[0m\u001b[0;34m.\u001b[0m\u001b[0mstates\u001b[0m\u001b[0;34m[\u001b[0m\u001b[0;34m-\u001b[0m\u001b[0;36m1\u001b[0m\u001b[0;34m]\u001b[0m\u001b[0;34m*\u001b[0m\u001b[0mSESol_st\u001b[0m\u001b[0;34m.\u001b[0m\u001b[0mstates\u001b[0m\u001b[0;34m[\u001b[0m\u001b[0;34m-\u001b[0m\u001b[0;36m1\u001b[0m\u001b[0;34m]\u001b[0m\u001b[0;34m.\u001b[0m\u001b[0mdag\u001b[0m\u001b[0;34m(\u001b[0m\u001b[0;34m)\u001b[0m\u001b[0;34m,\u001b[0m\u001b[0mState2\u001b[0m\u001b[0;34m/\u001b[0m\u001b[0mTr2\u001b[0m\u001b[0;34m)\u001b[0m\u001b[0;34m\u001b[0m\u001b[0;34m\u001b[0m\u001b[0m\n\u001b[0m\u001b[1;32m      3\u001b[0m \u001b[0mq\u001b[0m\u001b[0;34m.\u001b[0m\u001b[0mfidelity\u001b[0m\u001b[0;34m(\u001b[0m\u001b[0mSESol_st\u001b[0m\u001b[0;34m.\u001b[0m\u001b[0mstates\u001b[0m\u001b[0;34m[\u001b[0m\u001b[0;34m-\u001b[0m\u001b[0;36m1\u001b[0m\u001b[0;34m]\u001b[0m\u001b[0;34m*\u001b[0m\u001b[0mSESol_st\u001b[0m\u001b[0;34m.\u001b[0m\u001b[0mstates\u001b[0m\u001b[0;34m[\u001b[0m\u001b[0;34m-\u001b[0m\u001b[0;36m1\u001b[0m\u001b[0;34m]\u001b[0m\u001b[0;34m.\u001b[0m\u001b[0mdag\u001b[0m\u001b[0;34m(\u001b[0m\u001b[0;34m)\u001b[0m\u001b[0;34m,\u001b[0m\u001b[0mState5\u001b[0m\u001b[0;34m/\u001b[0m\u001b[0mTr5\u001b[0m\u001b[0;34m)\u001b[0m\u001b[0;34m\u001b[0m\u001b[0;34m\u001b[0m\u001b[0m\n\u001b[1;32m      4\u001b[0m \u001b[0mq\u001b[0m\u001b[0;34m.\u001b[0m\u001b[0mfidelity\u001b[0m\u001b[0;34m(\u001b[0m\u001b[0mSESol_st\u001b[0m\u001b[0;34m.\u001b[0m\u001b[0mstates\u001b[0m\u001b[0;34m[\u001b[0m\u001b[0;34m-\u001b[0m\u001b[0;36m1\u001b[0m\u001b[0;34m]\u001b[0m\u001b[0;34m*\u001b[0m\u001b[0mSESol_st\u001b[0m\u001b[0;34m.\u001b[0m\u001b[0mstates\u001b[0m\u001b[0;34m[\u001b[0m\u001b[0;34m-\u001b[0m\u001b[0;36m1\u001b[0m\u001b[0;34m]\u001b[0m\u001b[0;34m.\u001b[0m\u001b[0mdag\u001b[0m\u001b[0;34m(\u001b[0m\u001b[0;34m)\u001b[0m\u001b[0;34m,\u001b[0m\u001b[0mState6\u001b[0m\u001b[0;34m/\u001b[0m\u001b[0mTr6\u001b[0m\u001b[0;34m)\u001b[0m\u001b[0;34m\u001b[0m\u001b[0;34m\u001b[0m\u001b[0m\n",
      "\u001b[0;31mTypeError\u001b[0m: unsupported operand type(s) for /: 'list' and 'list'"
     ]
    }
   ],
   "source": [
    "#Fidelities with target state at the final time \n",
    "q.fidelity(SESol_st.states[-1]*SESol_st.states[-1].dag(),State2/Tr2)\n",
    "q.fidelity(SESol_st.states[-1]*SESol_st.states[-1].dag(),State5/Tr5)\n",
    "q.fidelity(SESol_st.states[-1]*SESol_st.states[-1].dag(),State6/Tr6)"
   ]
  },
  {
   "cell_type": "code",
   "execution_count": 19,
   "id": "affa23fc-a37b-4a75-9ed5-0e518496ff9a",
   "metadata": {},
   "outputs": [],
   "source": [
    "Fid = np.zeros(len(tlist))\n",
    "FidN = np.zeros(len(tlist))\n",
    "FidN2 = np.zeros(len(tlist))\n",
    "Fid5 = np.zeros(len(tlist))\n",
    "Fid6 = np.zeros(len(tlist))\n",
    "for kk in range(0,len(tlist)):\n",
    "    Fid[kk] = q.fidelity(SESol_st.states[kk]*SESol_st.states[kk].dag(),State2[kk]/Tr2[kk])\n",
    "    FidN[kk] = q.fidelity(SESol_st.states[kk]*SESol_st.states[kk].dag(),MESol_st.states[kk])\n",
    "    FidN2[kk] = q.fidelity(SESol_st.states[kk]*SESol_st.states[kk].dag(),MESol2_st.states[kk])\n",
    "    Fid5[kk] = q.fidelity(SESol_st.states[kk]*SESol_st.states[kk].dag(),State5[kk]/Tr5[kk])\n",
    "    Fid6[kk] = q.fidelity(SESol_st.states[kk]*SESol_st.states[kk].dag(),State6[kk]/Tr6[kk])"
   ]
  },
  {
   "cell_type": "code",
   "execution_count": 26,
   "id": "c9a7d65c-2d15-4efb-b43c-1b35b920917f",
   "metadata": {},
   "outputs": [
    {
     "name": "stdout",
     "output_type": "stream",
     "text": [
      "0.37090266572723407\n",
      "-1.2736021927583734\n",
      "-1.7183099828356136\n",
      "-2.5916435392834303\n"
     ]
    },
    {
     "data": {
      "image/png": "[encoded data removed]",
      "text/plain": [
       "<Figure size 432x288 with 1 Axes>"
      ]
     },
     "metadata": {
      "needs_background": "light"
     },
     "output_type": "display_data"
    }
   ],
   "source": [
    "plt.plot(tlist[1:],np.log10(np.abs(1-Fid[1:]))-np.log10(np.abs(1-FidN[1:])))\n",
    "plt.plot(tlist[1:],np.log10(np.abs(1-Fid5[1:]))-np.log10(np.abs(1-FidN[1:])))\n",
    "plt.plot(tlist[1:],np.log10(np.abs(1-Fid6[1:]))-np.log10(np.abs(1-FidN[1:])))\n",
    "plt.plot(tlist[1:],np.log10(np.abs(1-FidN[1:]))-np.log10(np.abs(1-FidN[1:])))\n",
    "plt.plot(tlist[1:],np.log10(np.abs(1-FidN2[1:]))-np.log10(np.abs(1-FidN[1:])))\n",
    "plt.ylabel('log|1-F|')\n",
    "print((np.log10(np.abs(1-FidN2[1:]))-np.log10(np.abs(1-FidN[1:]))).sum()/200)\n",
    "print((np.log10(np.abs(1-Fid[1:]))-np.log10(np.abs(1-FidN[1:]))).sum()/200)\n",
    "print((np.log10(np.abs(1-Fid5[1:]))-np.log10(np.abs(1-FidN[1:]))).sum()/200)\n",
    "print((np.log10(np.abs(1-Fid6[1:]))-np.log10(np.abs(1-FidN[1:]))).sum()/200)"
   ]
  },
  {
   "cell_type": "markdown",
   "id": "3079b5c3-0c08-412e-9ad0-e80a3028c731",
   "metadata": {},
   "source": [
    "## Error Mitigation with Errors in rates and operators"
   ]
  },
  {
   "cell_type": "code",
   "execution_count": null,
   "id": "0d3916e7-59d1-4eed-adaf-70e9605ace12",
   "metadata": {},
   "outputs": [],
   "source": [
    "#Define a function that new jump operators sm1+ERRJ and rates Gamma+error_Rates[J]\n",
    "def D_OPS(error_Ops,error_Rates):\n",
    "    \n",
    "    ERR1 = q.tensor(q.Qobj(error_Ops[0]),q.qeye(2),q.qeye(2),q.qeye(2))\n",
    "    ERR2 = q.tensor(q.qeye(2),q.Qobj(error_Ops[1]),q.qeye(2),q.qeye(2))\n",
    "    ERR3 = q.tensor(q.qeye(2),q.qeye(2),q.Qobj(error_Ops[2]),q.qeye(2))\n",
    "    ERR4 = q.tensor(q.qeye(2),q.qeye(2),q.qeye(2),q.Qobj(error_Ops[3]))\n",
    "    \n",
    "    ERR5 = q.tensor(q.Qobj(error_Ops[4]),q.qeye(2),q.qeye(2),q.qeye(2))\n",
    "    ERR6 = q.tensor(q.qeye(2),q.Qobj(error_Ops[5]),q.qeye(2),q.qeye(2))\n",
    "    ERR7 = q.tensor(q.qeye(2),q.qeye(2),q.Qobj(error_Ops[6]),q.qeye(2))\n",
    "    ERR8 = q.tensor(q.qeye(2),q.qeye(2),q.qeye(2),q.Qobj(error_Ops[7]))\n",
    "    \n",
    "    \n",
    "    c_ops_err = []\n",
    "    \n",
    "    c_ops_err.append((sm1+ERR1)*np.sqrt(Gamma+error_Rates[0]))\n",
    "    c_ops_err.append((sm2+ERR2)*np.sqrt(Gamma+error_Rates[1]))\n",
    "    c_ops_err.append((sm3+ERR3)*np.sqrt(Gamma+error_Rates[2]))\n",
    "    c_ops_err.append((sm4+ERR4)*np.sqrt(Gamma+error_Rates[3]))\n",
    "\n",
    "    c_ops_err.append((sz1+ERR5)*np.sqrt(Gamma+error_Rates[4]))\n",
    "    c_ops_err.append((sz2+ERR6)*np.sqrt(Gamma+error_Rates[5]))\n",
    "    c_ops_err.append((sz3+ERR7)*np.sqrt(Gamma+error_Rates[6]))\n",
    "    c_ops_err.append((sz4+ERR8)*np.sqrt(Gamma+error_Rates[7]))\n",
    "    \n",
    "    \n",
    "    d_ops_err = []\n",
    "    d_ops_err.append(sm1*np.sqrt(Gamma))\n",
    "    d_ops_err.append(sm2*np.sqrt(Gamma))\n",
    "    d_ops_err.append(sm3*np.sqrt(Gamma))\n",
    "    d_ops_err.append(sm4*np.sqrt(Gamma))\n",
    "\n",
    "    d_ops_err.append(sz1*np.sqrt(Gamma))\n",
    "    d_ops_err.append(sz2*np.sqrt(Gamma))\n",
    "    d_ops_err.append(sz3*np.sqrt(Gamma))\n",
    "    d_ops_err.append(sz4*np.sqrt(Gamma))\n",
    "\n",
    "    d_ops_err.append(sp1*np.sqrt(2*Gamma))\n",
    "    d_ops_err.append(sp2*np.sqrt(2*Gamma))\n",
    "    d_ops_err.append(sp3*np.sqrt(2*Gamma))\n",
    "    d_ops_err.append(sp4*np.sqrt(2*Gamma))\n",
    "\n",
    "    d_ops_err.append((sm1+ERR1)*np.sqrt(Gamma+error_Rates[0]))\n",
    "    d_ops_err.append((sm2+ERR2)*np.sqrt(Gamma+error_Rates[1]))\n",
    "    d_ops_err.append((sm3+ERR3)*np.sqrt(Gamma+error_Rates[2]))\n",
    "    d_ops_err.append((sm4+ERR4)*np.sqrt(Gamma+error_Rates[3]))\n",
    "\n",
    "    d_ops_err.append((sz1+ERR5)*np.sqrt(Gamma+error_Rates[4]))\n",
    "    d_ops_err.append((sz2+ERR6)*np.sqrt(Gamma+error_Rates[5]))\n",
    "    d_ops_err.append((sz3+ERR7)*np.sqrt(Gamma+error_Rates[6]))\n",
    "    d_ops_err.append((sz4+ERR8)*np.sqrt(Gamma+error_Rates[7]))\n",
    "    \n",
    "    \n",
    "    Rate_and_Ops_err = []\n",
    "\n",
    "    Rate_and_Ops_err.append([sm1,Gamma])\n",
    "    Rate_and_Ops_err.append([sm2,Gamma])\n",
    "    Rate_and_Ops_err.append([sm3,Gamma])\n",
    "    Rate_and_Ops_err.append([sm4,Gamma])\n",
    "\n",
    "    Rate_and_Ops_err.append([sz1,Gamma])\n",
    "    Rate_and_Ops_err.append([sz2,Gamma])\n",
    "    Rate_and_Ops_err.append([sz3,Gamma])\n",
    "    Rate_and_Ops_err.append([sz4,Gamma])\n",
    "\n",
    "    Rate_and_Ops_err.append([sp1,2*Gamma])\n",
    "    Rate_and_Ops_err.append([sp2,2*Gamma])\n",
    "    Rate_and_Ops_err.append([sp3,2*Gamma])\n",
    "    Rate_and_Ops_err.append([sp4,2*Gamma])\n",
    "    \n",
    "    return c_ops_err, d_ops_err, Rate_and_Ops_err"
   ]
  },
  {
   "cell_type": "code",
   "execution_count": null,
   "id": "90d8f3e4-3bd1-4060-b458-d295805c581b",
   "metadata": {},
   "outputs": [],
   "source": [
    "#Consider the two types of errors described in the manuscript\n",
    "Noise_Str = np.array([0,0.2,0.4,0.6,0.8,1]) * Gamma\n",
    "Op_Str = np.array([0,0.2,0.4,0.6,0.8,1])\n",
    "\n",
    "\n",
    "opts = q.Options(average_expect = False)\n",
    "init00 = q.Qobj(np.array([1,0]))\n",
    "\n",
    "M=10\n",
    "FidelityJ = np.zeros([len(Op_Str),len(Noise_Str)])\n",
    "FidelityJN = np.zeros([len(Op_Str),len(Noise_Str)])\n",
    "FidelityJN_all = np.zeros([M,len(Op_Str),len(Noise_Str)])\n",
    "FidelityJ_all = np.zeros([M,len(Op_Str),len(Noise_Str)])\n",
    "\n",
    "Mu = mu_cont(tlist,None)\n",
    "\n",
    "for mm in range(0,M):\n",
    "    print(mm)\n",
    "    for ll in range(0,len(Op_Str)):\n",
    "        \n",
    "        op_Str= Op_Str[ll]\n",
    "        \n",
    "        for kk in range(0,len(Noise_Str)):\n",
    "            \n",
    "            State = 0 \n",
    "            Tr = 0\n",
    "            noise_Str = Noise_Str[kk]            \n",
    "            error_Ops = op_Str * np.random.random([8,2,2])\n",
    "            error_Rates = noise_Str * (np.random.random([8]))\n",
    "\n",
    "            c_ops_err, d_ops_err, Rate_and_Ops_err = D_OPS(error_Ops,error_Rates)\n",
    "            \n",
    "            MESolR = q.mesolve(H, psi0, tlist, c_ops_err)\n",
    "            MCSol00R = q.mcsolve(H, psi0, tlist, d_ops_err, ntraj=10000, options = opts,progress_bar=None)\n",
    "            for j in range(0,ntraj):\n",
    "                times = MCSol00R.col_times[j]\n",
    "                jumps = np.zeros(len(MCSol00R.col_times[j]))\n",
    "                jumps[:] = MCSol00R.col_which[j]\n",
    "                lala = mu_jump(times,jumps,None) * Mu \n",
    "\n",
    "                Tr += lala[-1] * (MCSol00R.states[j][-1]*MCSol00R.states[j][-1].dag()).tr()\n",
    "                State += lala[-1] * MCSol00R.states[j][-1]*MCSol00R.states[j][-1].dag()\n",
    "                \n",
    "            del MCSol00R\n",
    "            \n",
    "            fid = q.fidelity(State/Tr,SESol_st.states[-1]*SESol_st.states[-1].dag())\n",
    "            fidN = q.fidelity(MESolR.states[-1],SESol_st.states[-1]*SESol_st.states[-1].dag())\n",
    "            \n",
    "            FidelityJ[ll,kk] += fid\n",
    "            FidelityJN[ll,kk] += np.log10(np.abs(1-fid))-np.log10(np.abs(1-fidN))\n",
    "            FidelityJN_all[mm,ll,kk] = np.log10(np.abs(1-fid))-np.log10(np.abs(1-fidN))\n",
    "            FidelityJ_all[mm,ll,kk] = fid"
   ]
  },
  {
   "cell_type": "code",
   "execution_count": null,
   "id": "41fb262f-8a2d-41d2-8631-a62b0861cdf9",
   "metadata": {},
   "outputs": [],
   "source": [
    "#make a fancy heat map with the errors\n",
    "plt.rcParams.update({\n",
    "    \"text.usetex\": True,\n",
    "    \"font.family\": \"serif\",\n",
    "    \"font.serif\": [\"Computer Modern Roman\"],\n",
    "}) \n",
    "fig1, ax2 = plt.subplots()\n",
    "\n",
    "levels = np.linspace(-2,0, 101)\n",
    "levels2 = [-0.9254225111725768,0]\n",
    "CS = ax2.contourf(Noise_Str/Gamma,Op_Str,FidelityJN/10,levels,cmap='plasma')\n",
    "cbar = plt.colorbar(CS, ticks = [-2,-1.6,-1.2,-.8,-.4,0])\n",
    "#cbar = plt.colorbar(CS,norm=colors.LogNorm())\n",
    "cbar.set_ticklabels(['$10^{-2}$','$10^{-1.6}$','$10^{-1.2}$','$10^{-0.8}$','$10^{-0.4}$','$10^{0}$'])\n",
    "cbar.ax.tick_params(labelsize=12)\n",
    "plt.xticks(fontsize=14)\n",
    "plt.yticks(fontsize=14)\n",
    "plt.xlabel('$\\mathcal{E}_R$',fontsize=14)\n",
    "plt.ylabel('$\\mathcal{E}_L$',fontsize=14)\n",
    "#CS2 = ax2.contour(Noise_Str/Gamma,Op_Str,FidelityJN/10,levels=levels2,colors='black')\n",
    "#cbar.add_lines(CS2)\n",
    "plt.savefig('Errors_Rates.png', dpi=1000)\n",
    "plt.savefig('Errors_Rates.pdf')"
   ]
  },
  {
   "cell_type": "markdown",
   "id": "d7803b89-a904-483c-a498-66693a9ab9e5",
   "metadata": {},
   "source": [
    "## Error mitigation with noise on jump times"
   ]
  },
  {
   "cell_type": "code",
   "execution_count": null,
   "id": "0c916e3a-7f64-4fb7-8d09-f570a7134f37",
   "metadata": {},
   "outputs": [],
   "source": [
    "# Compute errors on the jump times as described in the manuscript\n",
    "State5= []\n",
    "Tr5 = []\n",
    "Tr_Err5 = [] \n",
    "State_Err5 = []\n",
    "\n",
    "Mu = mu_cont(tlist,None)\n",
    "\n",
    "noise_strength = np.linspace(0,1,50)*Gamma**-1\n",
    "\n",
    "for mm in range(0,len(tlist)):\n",
    "    State5.append(0)\n",
    "    Tr5.append(0)\n",
    "for mm in range(0,len(noise_strength)):\n",
    "    Tr_Err5.append(0)\n",
    "    State_Err5.append(0)\n",
    "\n",
    "M = 10\n",
    "\n",
    "State_Err_all5 = []\n",
    "for mm in range(0,len(noise_strength)*10):\n",
    "    State_Err_all5.append(0)\n",
    "\n",
    "\n",
    "\n",
    "\n",
    "opts = q.Options(average_expect = False)\n",
    "for jj in range(0,10):\n",
    "    print(jj)\n",
    "    MCSol00_st = q.mcsolve(H, psi0, tlist, d_ops, ntraj=10000, options = opts,progress_bar=None) \n",
    "    \n",
    "    for j in range(0,10000):\n",
    "        times = MCSol00_st.col_times[j]\n",
    "        jumps = np.zeros(len(MCSol00_st.col_times[j]))\n",
    "        jumps[:] = MCSol00_st.col_which[j]\n",
    "        lala = mu_jump(times,jumps,None) * Mu \n",
    "        for kk in range(0,len(tlist)):\n",
    "            Tr5[kk] += lala[kk] * (MCSol00_st.states[j][kk]*MCSol00_st.states[j][kk].dag()).tr()\n",
    "            State5[kk] += lala[kk] * MCSol00_st.states[j][kk]*MCSol00_st.states[j][kk].dag()\n",
    "        \n",
    "    for mm in range(0,10):\n",
    "        for kk in range(0,len(noise_strength)):\n",
    "            strength = noise_strength[kk]\n",
    "            for j in range(0,ntraj):\n",
    "                if len(MCSol00_st.col_times[j]) > 0:\n",
    "                    times = np.zeros(len(MCSol00_st.col_times[j]))\n",
    "                    jumps = np.zeros(len(MCSol00_st.col_times[j]))\n",
    "                    jumps[:] = MCSol00_st.col_which[j]\n",
    "                    for jj in range(0,len(MCSol00_st.col_times[j])):\n",
    "                        times[jj] = max(MCSol00_st.col_times[j][jj]+strength*(np.random.random(1)-0.5),0)\n",
    "\n",
    "                else:\n",
    "                    times = MCSol00_st.col_times[j]\n",
    "                    jumps = np.zeros(len(MCSol00_st.col_times[j]))\n",
    "                    jumps[:] = MCSol00_st.col_which[j]\n",
    "                lala = mu_jump(times,jumps,None) * Mu \n",
    "\n",
    "                Tr_Err5[kk] += lala[-1] * (MCSol00_st.states[j][-1]*MCSol00_st.states[j][-1].dag()).tr()\n",
    "                State_Err5[kk] += lala[-1] * MCSol00_st.states[j][-1]*MCSol00_st.states[j][-1].dag()        \n",
    "                State_Err_all5[int(mm*len(noise_strength)+kk)] += lala[-1] * MCSol00_st.states[j][-1]*MCSol00_st.states[j][-1].dag() \n",
    "    del MCSol00_st"
   ]
  },
  {
   "cell_type": "code",
   "execution_count": null,
   "id": "0a74a18f-c241-4de9-8c42-a8f7dd247d69",
   "metadata": {},
   "outputs": [],
   "source": [
    "# Compute the fidelity \n",
    "FidErr5 = np.zeros(len(noise_strength))\n",
    "for mm in range(0,10):\n",
    "    for kk in range(0,len(noise_strength)):\n",
    "        FidErr5[kk] += np.log10(np.abs(1-q.fidelity(State_Err_all5[int(mm*len(noise_strength)+kk)]/State_Err_all5[int(mm*len(noise_strength)+kk)].tr(),SESol_st.states[-1]*SESol_st.states[-1].dag())))\n",
    "        "
   ]
  },
  {
   "cell_type": "code",
   "execution_count": null,
   "id": "3be35f45-2ba2-46df-a0ab-1e97fa5e101c",
   "metadata": {},
   "outputs": [],
   "source": [
    "#Plot the results\n",
    "plt.plot(noise_strength/1000,FidErr5/10)\n",
    "plt.plot(noise_strength/1000,np.log10(1-0.8812653466002242) + np.zeros(len(noise_strength)))\n",
    "plt.plot(noise_strength/1000,np.log10(1-0.7319465418415538) + np.zeros(len(noise_strength)))\n"
   ]
  }
 ],
 "metadata": {
  "kernelspec": {
   "display_name": "Python 3 (ipykernel)",
   "language": "python",
   "name": "python3"
  },
  "language_info": {
   "codemirror_mode": {
    "name": "ipython",
    "version": 3
   },
   "file_extension": ".py",
   "mimetype": "text/x-python",
   "name": "python",
   "nbconvert_exporter": "python",
   "pygments_lexer": "ipython3",
   "version": "3.9.7"
  }
 },
 "nbformat": 4,
 "nbformat_minor": 5
}
